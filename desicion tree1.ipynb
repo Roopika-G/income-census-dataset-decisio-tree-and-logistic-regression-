{
 "cells": [
  {
   "cell_type": "code",
   "execution_count": 122,
   "metadata": {},
   "outputs": [],
   "source": [
    "from sklearn.metrics import classification_report\n",
    "from sklearn.metrics import confusion_matrix\n",
    "from sklearn.metrics import accuracy_score\n",
    "from sklearn.neighbors import KNeighborsClassifier\n",
    "from sklearn.svm import SVC\n",
    "import numpy as np\n",
    "import pandas as pd\n",
    "from sklearn.tree import DecisionTreeClassifier, export_graphviz\n",
    "from sklearn.model_selection import train_test_split\n",
    "from sklearn import tree\n",
    "import graphviz\n",
    "import collections\n",
    "import matplotlib\n",
    "from matplotlib import pyplot as plt  "
   ]
  },
  {
   "cell_type": "code",
   "execution_count": 123,
   "metadata": {},
   "outputs": [
    {
     "name": "stdout",
     "output_type": "stream",
     "text": [
      "   AGE          WORKCLASS  FNLWGT   EDUCATION  EDUCATIONYEARS  \\\n",
      "0   39          State-gov   77516   Bachelors              13   \n",
      "1   50   Self-emp-not-inc   83311   Bachelors              13   \n",
      "2   38            Private  215646     HS-grad               9   \n",
      "3   53            Private  234721        11th               7   \n",
      "4   28            Private  338409   Bachelors              13   \n",
      "\n",
      "         MARITALSTATUS          OCCUPATION    RELATIONSHIP    RACE      SEX  \\\n",
      "0        Never-married        Adm-clerical   Not-in-family   White     Male   \n",
      "1   Married-civ-spouse     Exec-managerial         Husband   White     Male   \n",
      "2             Divorced   Handlers-cleaners   Not-in-family   White     Male   \n",
      "3   Married-civ-spouse   Handlers-cleaners         Husband   Black     Male   \n",
      "4   Married-civ-spouse      Prof-specialty            Wife   Black   Female   \n",
      "\n",
      "   CAPITALGAIN  CAPITALLOSS  HRSPERWEEK   NATIVECOUNTRY   CLASS  \n",
      "0         2174            0          40   United-States   <=50K  \n",
      "1            0            0          13   United-States   <=50K  \n",
      "2            0            0          40   United-States   <=50K  \n",
      "3            0            0          40   United-States   <=50K  \n",
      "4            0            0          40            Cuba   <=50K  \n"
     ]
    }
   ],
   "source": [
    "missing_value = [\"?\", \" ?\"]\n",
    "data =pd.read_csv('adult.csv', na_values = missing_value)\n",
    "print(data.head(5))"
   ]
  },
  {
   "cell_type": "code",
   "execution_count": 124,
   "metadata": {},
   "outputs": [
    {
     "name": "stdout",
     "output_type": "stream",
     "text": [
      " United-States                 0.895857\n",
      " Mexico                        0.019748\n",
      " Philippines                   0.006081\n",
      " Germany                       0.004207\n",
      " Canada                        0.003716\n",
      " Puerto-Rico                   0.003501\n",
      " El-Salvador                   0.003255\n",
      " India                         0.003071\n",
      " Cuba                          0.002918\n",
      " England                       0.002764\n",
      " Jamaica                       0.002488\n",
      " South                         0.002457\n",
      " China                         0.002303\n",
      " Italy                         0.002242\n",
      " Dominican-Republic            0.002150\n",
      " Vietnam                       0.002058\n",
      " Guatemala                     0.001966\n",
      " Japan                         0.001904\n",
      " Poland                        0.001843\n",
      " Columbia                      0.001812\n",
      " Taiwan                        0.001566\n",
      " Haiti                         0.001351\n",
      " Iran                          0.001321\n",
      " Portugal                      0.001136\n",
      " Nicaragua                     0.001044\n",
      " Peru                          0.000952\n",
      " Greece                        0.000891\n",
      " France                        0.000891\n",
      " Ecuador                       0.000860\n",
      " Ireland                       0.000737\n",
      " Hong                          0.000614\n",
      " Cambodia                      0.000584\n",
      " Trinadad&Tobago               0.000584\n",
      " Laos                          0.000553\n",
      " Thailand                      0.000553\n",
      " Yugoslavia                    0.000491\n",
      " Outlying-US(Guam-USVI-etc)    0.000430\n",
      " Hungary                       0.000399\n",
      " Honduras                      0.000399\n",
      " Scotland                      0.000369\n",
      " Holand-Netherlands            0.000031\n",
      "Name: NATIVECOUNTRY, dtype: float64\n"
     ]
    }
   ],
   "source": [
    "print(data['NATIVECOUNTRY'].value_counts()/data.shape[0])\n",
    "data.loc[data['NATIVECOUNTRY']!='United-States', 'NATIVECOUNTRY']='Other'"
   ]
  },
  {
   "cell_type": "code",
   "execution_count": 125,
   "metadata": {},
   "outputs": [
    {
     "name": "stdout",
     "output_type": "stream",
     "text": [
      "       AGE  WORKCLASS  EDUCATION  EDUCATIONYEARS  MARITALSTATUS  OCCUPATION  \\\n",
      "0       39          6          9              13              4           0   \n",
      "1       50          5          9              13              2           3   \n",
      "2       38          3         11               9              0           5   \n",
      "3       53          3          1               7              2           5   \n",
      "4       28          3          9              13              2           9   \n",
      "...    ...        ...        ...             ...            ...         ...   \n",
      "32556   27          3          7              12              2          12   \n",
      "32557   40          3         11               9              2           6   \n",
      "32558   58          3         11               9              6           0   \n",
      "32559   22          3         11               9              4           0   \n",
      "32560   52          4         11               9              2           3   \n",
      "\n",
      "       RELATIONSHIP  RACE  SEX  HRSPERWEEK  NATIVECOUNTRY  \n",
      "0                 1     4    1          40              0  \n",
      "1                 0     4    1          13              0  \n",
      "2                 1     4    1          40              0  \n",
      "3                 0     2    1          40              0  \n",
      "4                 5     2    0          40              0  \n",
      "...             ...   ...  ...         ...            ...  \n",
      "32556             5     4    0          38              0  \n",
      "32557             0     4    1          40              0  \n",
      "32558             4     4    0          40              0  \n",
      "32559             3     4    1          20              0  \n",
      "32560             5     4    0          40              0  \n",
      "\n",
      "[32561 rows x 11 columns]\n",
      "[0 0 0 ... 0 0 1]\n"
     ]
    }
   ],
   "source": [
    "#X=data.drop(['FNLWGT','CAPITALGAIN','CAPITALLOSS','CLASS'], axis=1)#\n",
    "\n",
    "data['WORKCLASS'] = pd.Categorical(data['WORKCLASS']).codes\n",
    "data['EDUCATION'] = pd.Categorical(data['EDUCATION']).codes\n",
    "data['MARITALSTATUS'] = pd.Categorical(data['MARITALSTATUS']).codes\n",
    "data['OCCUPATION'] = pd.Categorical(data['OCCUPATION']).codes\n",
    "data['RELATIONSHIP'] = pd.Categorical(data['RELATIONSHIP']).codes\n",
    "data['RACE'] = pd.Categorical(data['RACE']).codes\n",
    "data['SEX'] = pd.Categorical(data['SEX']).codes\n",
    "data['NATIVECOUNTRY'] = pd.Categorical(data['NATIVECOUNTRY']).codes\n",
    "X=data.drop(['FNLWGT','CAPITALGAIN','CAPITALLOSS','CLASS'], axis=1)#\n",
    "Y = pd.Categorical(data['CLASS']).codes\n",
    "print(X)\n",
    "print(Y)"
   ]
  },
  {
   "cell_type": "code",
   "execution_count": 126,
   "metadata": {},
   "outputs": [],
   "source": [
    "train_X, test_X, train_Y, test_Y = train_test_split(X.values, Y, test_size = 0.2)"
   ]
  },
  {
   "cell_type": "code",
   "execution_count": 127,
   "metadata": {},
   "outputs": [
    {
     "name": "stdout",
     "output_type": "stream",
     "text": [
      "Training time: 0.06824874877929688s\n"
     ]
    }
   ],
   "source": [
    "import time\n",
    "model = DecisionTreeClassifier(min_samples_split=10)\n",
    "start = time.time()\n",
    "#model.fit(X, y)\n",
    "model.fit(train_X, train_Y)\n",
    "stop = time.time()\n",
    "print(f\"Training time: {stop - start}s\")\n"
   ]
  },
  {
   "cell_type": "code",
   "execution_count": 128,
   "metadata": {},
   "outputs": [
    {
     "name": "stdout",
     "output_type": "stream",
     "text": [
      "0.9084766584766585\n"
     ]
    }
   ],
   "source": [
    "predictions = model.predict(train_X)\n",
    "print((predictions==train_Y).mean())"
   ]
  },
  {
   "cell_type": "code",
   "execution_count": 129,
   "metadata": {},
   "outputs": [
    {
     "name": "stdout",
     "output_type": "stream",
     "text": [
      "0.8014739751266697\n"
     ]
    }
   ],
   "source": [
    "predictions = model.predict(test_X)\n",
    "print((predictions==test_Y).mean())\n",
    "#print \"predict time:\", round(time()-t1, 3), \"s\""
   ]
  },
  {
   "cell_type": "code",
   "execution_count": 130,
   "metadata": {},
   "outputs": [
    {
     "name": "stdout",
     "output_type": "stream",
     "text": [
      "   AGE   WORKCLASS  FNLWGT      EDUCATION  EDUCATIONYEARS  \\\n",
      "0   25     Private  226802           11th               7   \n",
      "1   38     Private   89814        HS-grad               9   \n",
      "2   28   Local-gov  336951     Assoc-acdm              12   \n",
      "3   44     Private  160323   Some-college              10   \n",
      "4   18         NaN  103497   Some-college              10   \n",
      "\n",
      "         MARITALSTATUS          OCCUPATION RELATIONSHIP    RACE      SEX  \\\n",
      "0        Never-married   Machine-op-inspct    Own-child   Black     Male   \n",
      "1   Married-civ-spouse     Farming-fishing      Husband   White     Male   \n",
      "2   Married-civ-spouse     Protective-serv      Husband   White     Male   \n",
      "3   Married-civ-spouse   Machine-op-inspct      Husband   Black     Male   \n",
      "4        Never-married                 NaN    Own-child   White   Female   \n",
      "\n",
      "   CAPITALGAIN  CAPITALLOSS  HRSPERWEEK   NATIVECOUNTRY    CLASS  \n",
      "0            0            0          40   United-States   <=50K.  \n",
      "1            0            0          50   United-States   <=50K.  \n",
      "2            0            0          40   United-States    >50K.  \n",
      "3         7688            0          40   United-States    >50K.  \n",
      "4            0            0          30   United-States   <=50K.  \n"
     ]
    }
   ],
   "source": [
    "missing_value = [\"?\", \" ?\"]\n",
    "datatest =pd.read_csv('adult.test.csv', na_values = missing_value)\n",
    "print(datatest.head(5))\n"
   ]
  },
  {
   "cell_type": "code",
   "execution_count": 131,
   "metadata": {},
   "outputs": [
    {
     "name": "stdout",
     "output_type": "stream",
     "text": [
      " United-States                 0.450293\n",
      " Mexico                        0.009459\n",
      " Philippines                   0.002979\n",
      " Puerto-Rico                   0.002150\n",
      " Germany                       0.002119\n",
      " Canada                        0.001873\n",
      " India                         0.001566\n",
      " El-Salvador                   0.001505\n",
      " China                         0.001443\n",
      " Cuba                          0.001321\n",
      " England                       0.001136\n",
      " South                         0.001075\n",
      " Dominican-Republic            0.001013\n",
      " Italy                         0.000983\n",
      " Haiti                         0.000952\n",
      " Portugal                      0.000921\n",
      " Japan                         0.000921\n",
      " Poland                        0.000829\n",
      " Columbia                      0.000799\n",
      " Jamaica                       0.000768\n",
      " Guatemala                     0.000737\n",
      " Greece                        0.000614\n",
      " Vietnam                       0.000584\n",
      " Ecuador                       0.000522\n",
      " Iran                          0.000491\n",
      " Peru                          0.000461\n",
      " Nicaragua                     0.000461\n",
      " Taiwan                        0.000430\n",
      " Ireland                       0.000399\n",
      " Thailand                      0.000369\n",
      " Hong                          0.000307\n",
      " Scotland                      0.000276\n",
      " Cambodia                      0.000276\n",
      " France                        0.000276\n",
      " Outlying-US(Guam-USVI-etc)    0.000276\n",
      " Trinadad&Tobago               0.000246\n",
      " Yugoslavia                    0.000215\n",
      " Honduras                      0.000215\n",
      " Hungary                       0.000184\n",
      " Laos                          0.000154\n",
      "Name: NATIVECOUNTRY, dtype: float64\n"
     ]
    },
    {
     "name": "stderr",
     "output_type": "stream",
     "text": [
      "C:\\Users\\Roopika Ganesh\\anaconda3\\lib\\site-packages\\pandas\\core\\ops\\array_ops.py:253: FutureWarning: elementwise comparison failed; returning scalar instead, but in the future will perform elementwise comparison\n",
      "  res_values = method(rvalues)\n"
     ]
    }
   ],
   "source": [
    "print(datatest['NATIVECOUNTRY'].value_counts()/data.shape[0])\n",
    "datatest.loc[data['NATIVECOUNTRY']!='United-States', 'NATIVECOUNTRY']='Other'"
   ]
  },
  {
   "cell_type": "code",
   "execution_count": 132,
   "metadata": {},
   "outputs": [
    {
     "name": "stdout",
     "output_type": "stream",
     "text": [
      "       AGE  WORKCLASS  EDUCATION  EDUCATIONYEARS  MARITALSTATUS  OCCUPATION  \\\n",
      "0       25          3          1               7              4           6   \n",
      "1       38          3         11               9              2           4   \n",
      "2       28          1          7              12              2          10   \n",
      "3       44          3         15              10              2           6   \n",
      "4       18         -1         15              10              4          -1   \n",
      "...    ...        ...        ...             ...            ...         ...   \n",
      "16276   39          3          9              13              0           9   \n",
      "16277   64         -1         11               9              6          -1   \n",
      "16278   38          3          9              13              2           9   \n",
      "16279   44          3          9              13              0           0   \n",
      "16280   35          4          9              13              2           3   \n",
      "\n",
      "       RELATIONSHIP  RACE  SEX  HRSPERWEEK  NATIVECOUNTRY  \n",
      "0                 3     2    1          40              0  \n",
      "1                 0     4    1          50              0  \n",
      "2                 0     4    1          40              0  \n",
      "3                 0     2    1          40              0  \n",
      "4                 3     4    0          30              0  \n",
      "...             ...   ...  ...         ...            ...  \n",
      "16276             1     4    0          36              0  \n",
      "16277             2     2    1          40              0  \n",
      "16278             0     4    1          50              0  \n",
      "16279             3     1    1          40              0  \n",
      "16280             0     4    1          60              0  \n",
      "\n",
      "[16281 rows x 11 columns]\n",
      "[0 0 1 ... 0 0 1]\n"
     ]
    }
   ],
   "source": [
    "#X=data.drop(['FNLWGT','CAPITALGAIN','CAPITALLOSS','CLASS'], axis=1)#\n",
    "datatest['WORKCLASS'] = pd.Categorical(datatest['WORKCLASS']).codes\n",
    "datatest['EDUCATION'] = pd.Categorical(datatest['EDUCATION']).codes\n",
    "datatest['MARITALSTATUS'] = pd.Categorical(datatest['MARITALSTATUS']).codes\n",
    "datatest['OCCUPATION'] = pd.Categorical(datatest['OCCUPATION']).codes\n",
    "datatest['RELATIONSHIP'] = pd.Categorical(datatest['RELATIONSHIP']).codes\n",
    "datatest['RACE'] = pd.Categorical(datatest['RACE']).codes\n",
    "datatest['SEX'] = pd.Categorical(datatest['SEX']).codes\n",
    "datatest['NATIVECOUNTRY'] = pd.Categorical(datatest['NATIVECOUNTRY']).codes\n",
    "X1=datatest.drop(['FNLWGT','CAPITALGAIN','CAPITALLOSS','CLASS'], axis=1)#\n",
    "Y1= pd.Categorical(datatest['CLASS']).codes\n",
    "print(X1)\n",
    "print(Y1)"
   ]
  },
  {
   "cell_type": "code",
   "execution_count": 133,
   "metadata": {},
   "outputs": [
    {
     "name": "stdout",
     "output_type": "stream",
     "text": [
      "prediction time: 0.011484146118164062s\n",
      "0.8010564461642405\n"
     ]
    }
   ],
   "source": [
    "import time\n",
    "start = time.time()\n",
    "predictionstest = model.predict(X1)\n",
    "stop = time.time()\n",
    "print(f\"prediction time: {stop - start}s\")\n",
    "print((predictionstest==Y1).mean())"
   ]
  },
  {
   "cell_type": "code",
   "execution_count": 134,
   "metadata": {},
   "outputs": [
    {
     "name": "stdout",
     "output_type": "stream",
     "text": [
      "              precision    recall  f1-score   support\n",
      "\n",
      "           0       0.86      0.89      0.87     12435\n",
      "           1       0.59      0.51      0.55      3846\n",
      "\n",
      "    accuracy                           0.80     16281\n",
      "   macro avg       0.72      0.70      0.71     16281\n",
      "weighted avg       0.79      0.80      0.80     16281\n",
      "\n"
     ]
    }
   ],
   "source": [
    "from sklearn.metrics import classification_report\n",
    "print(classification_report(Y1, predictionstest))"
   ]
  },
  {
   "cell_type": "code",
   "execution_count": 135,
   "metadata": {},
   "outputs": [
    {
     "name": "stdout",
     "output_type": "stream",
     "text": [
      "0.7884845816028057\n"
     ]
    },
    {
     "data": {
      "image/png": "[encoded data removed]",
      "text/plain": [
       "<Figure size 432x288 with 1 Axes>"
      ]
     },
     "metadata": {
      "needs_background": "light"
     },
     "output_type": "display_data"
    }
   ],
   "source": [
    "from sklearn.metrics import roc_auc_score\n",
    "from sklearn.metrics import roc_curve\n",
    "from sklearn import metrics\n",
    "logit_roc_auc = roc_auc_score(Y1, model.predict(X1))\n",
    "fpr, tpr, thresholds = roc_curve(Y1, model.predict_proba(X1)[:,1])\n",
    "auc = metrics.auc(fpr, tpr)\n",
    "print(auc)\n",
    "plt.figure()\n",
    "plt.plot(fpr, tpr, label='Desicion Tree (area = %0.2f)' % logit_roc_auc)\n",
    "plt.plot([0, 1], [0, 1],'r--')\n",
    "plt.xlim([0.0, 1.0])\n",
    "plt.ylim([0.0, 1.05])\n",
    "plt.xlabel('False Positive Rate')\n",
    "plt.ylabel('True Positive Rate')\n",
    "plt.title('Receiver operating characteristic')\n",
    "plt.legend(loc=\"lower right\")\n",
    "plt.savefig('desicion_ROC')\n",
    "plt.show()"
   ]
  },
  {
   "cell_type": "code",
   "execution_count": 105,
   "metadata": {},
   "outputs": [
    {
     "name": "stdout",
     "output_type": "stream",
     "text": [
      "[[11009  1426]\n",
      " [ 1852  1994]]\n"
     ]
    }
   ],
   "source": [
    "from sklearn.metrics import confusion_matrix\n",
    "#from sklearn.metrics import multilabel_confusion_matrix\n",
    "#confusion_matrix = multilabel_confusion_matrix(Y1, predictionstest,labels=[0,1])\n",
    "confusion_matrix = confusion_matrix(Y1, predictionstest)\n",
    "#confusion_matrix1 = multilabel_confusion_matrix(Y1, predictionstest,labels=[1])\n",
    "print(confusion_matrix)\n",
    "#print(confusion_matrix1)"
   ]
  },
  {
   "cell_type": "code",
   "execution_count": 106,
   "metadata": {},
   "outputs": [
    {
     "name": "stdout",
     "output_type": "stream",
     "text": [
      "0.7637737239727289\n",
      "0.43502135448444174\n",
      "0.41695906432748536\n",
      "0.4257987458942968\n"
     ]
    }
   ],
   "source": [
    "tp = confusion_matrix[0,1]\n",
    "tn = confusion_matrix[0,0]\n",
    "fp = confusion_matrix[1,0]\n",
    "fn = confusion_matrix[1,1]\n",
    "tptn = tp+tn\n",
    "allsco = tp+tn+fp+fn\n",
    "ac = tptn/allsco\n",
    "print(ac)\n",
    "#precision\n",
    "pr = tp/(tp+fp)\n",
    "print(pr)\n",
    "#recall\n",
    "re = tp/(tp+fn)\n",
    "print(re)\n",
    "#fmeasure \n",
    "fm = (2 * pr * re)/(pr + re)\n",
    "print(fm)"
   ]
  },
  {
   "cell_type": "code",
   "execution_count": null,
   "metadata": {},
   "outputs": [],
   "source": []
  },
  {
   "cell_type": "code",
   "execution_count": null,
   "metadata": {},
   "outputs": [],
   "source": []
  }
 ],
 "metadata": {
  "kernelspec": {
   "display_name": "Python 3",
   "language": "python",
   "name": "python3"
  },
  "language_info": {
   "codemirror_mode": {
    "name": "ipython",
    "version": 3
   },
   "file_extension": ".py",
   "mimetype": "text/x-python",
   "name": "python",
   "nbconvert_exporter": "python",
   "pygments_lexer": "ipython3",
   "version": "3.7.6"
  }
 },
 "nbformat": 4,
 "nbformat_minor": 4
}
