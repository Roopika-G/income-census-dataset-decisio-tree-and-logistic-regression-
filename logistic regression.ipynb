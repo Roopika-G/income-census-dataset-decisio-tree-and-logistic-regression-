{
 "cells": [
  {
   "cell_type": "code",
   "execution_count": 140,
   "metadata": {},
   "outputs": [],
   "source": [
    "from sklearn.metrics import classification_report\n",
    "from sklearn.metrics import confusion_matrix\n",
    "from sklearn.metrics import accuracy_score\n",
    "from sklearn.neighbors import KNeighborsClassifier\n",
    "from sklearn.svm import SVC\n",
    "import numpy as np\n",
    "import pandas as pd\n",
    "from sklearn.tree import DecisionTreeClassifier, export_graphviz\n",
    "from sklearn.model_selection import train_test_split\n",
    "from sklearn import tree\n",
    "import graphviz\n",
    "import collections\n",
    "import matplotlib\n",
    "from matplotlib import pyplot as plt  "
   ]
  },
  {
   "cell_type": "code",
   "execution_count": 141,
   "metadata": {},
   "outputs": [
    {
     "name": "stdout",
     "output_type": "stream",
     "text": [
      "   AGE          WORKCLASS  FNLWGT   EDUCATION  EDUCATIONYEARS  \\\n",
      "0   39          State-gov   77516   Bachelors              13   \n",
      "1   50   Self-emp-not-inc   83311   Bachelors              13   \n",
      "2   38            Private  215646     HS-grad               9   \n",
      "3   53            Private  234721        11th               7   \n",
      "4   28            Private  338409   Bachelors              13   \n",
      "\n",
      "         MARITALSTATUS          OCCUPATION    RELATIONSHIP    RACE      SEX  \\\n",
      "0        Never-married        Adm-clerical   Not-in-family   White     Male   \n",
      "1   Married-civ-spouse     Exec-managerial         Husband   White     Male   \n",
      "2             Divorced   Handlers-cleaners   Not-in-family   White     Male   \n",
      "3   Married-civ-spouse   Handlers-cleaners         Husband   Black     Male   \n",
      "4   Married-civ-spouse      Prof-specialty            Wife   Black   Female   \n",
      "\n",
      "   CAPITALGAIN  CAPITALLOSS  HRSPERWEEK   NATIVECOUNTRY   CLASS  \n",
      "0         2174            0          40   United-States   <=50K  \n",
      "1            0            0          13   United-States   <=50K  \n",
      "2            0            0          40   United-States   <=50K  \n",
      "3            0            0          40   United-States   <=50K  \n",
      "4            0            0          40            Cuba   <=50K  \n"
     ]
    }
   ],
   "source": [
    "missing_value = [\"?\", \" ?\"]\n",
    "data =pd.read_csv('adult.csv', na_values = missing_value)\n",
    "print(data.head(5))"
   ]
  },
  {
   "cell_type": "code",
   "execution_count": 142,
   "metadata": {},
   "outputs": [
    {
     "name": "stdout",
     "output_type": "stream",
     "text": [
      " United-States                 0.895857\n",
      " Mexico                        0.019748\n",
      " Philippines                   0.006081\n",
      " Germany                       0.004207\n",
      " Canada                        0.003716\n",
      " Puerto-Rico                   0.003501\n",
      " El-Salvador                   0.003255\n",
      " India                         0.003071\n",
      " Cuba                          0.002918\n",
      " England                       0.002764\n",
      " Jamaica                       0.002488\n",
      " South                         0.002457\n",
      " China                         0.002303\n",
      " Italy                         0.002242\n",
      " Dominican-Republic            0.002150\n",
      " Vietnam                       0.002058\n",
      " Guatemala                     0.001966\n",
      " Japan                         0.001904\n",
      " Poland                        0.001843\n",
      " Columbia                      0.001812\n",
      " Taiwan                        0.001566\n",
      " Haiti                         0.001351\n",
      " Iran                          0.001321\n",
      " Portugal                      0.001136\n",
      " Nicaragua                     0.001044\n",
      " Peru                          0.000952\n",
      " France                        0.000891\n",
      " Greece                        0.000891\n",
      " Ecuador                       0.000860\n",
      " Ireland                       0.000737\n",
      " Hong                          0.000614\n",
      " Trinadad&Tobago               0.000584\n",
      " Cambodia                      0.000584\n",
      " Thailand                      0.000553\n",
      " Laos                          0.000553\n",
      " Yugoslavia                    0.000491\n",
      " Outlying-US(Guam-USVI-etc)    0.000430\n",
      " Hungary                       0.000399\n",
      " Honduras                      0.000399\n",
      " Scotland                      0.000369\n",
      " Holand-Netherlands            0.000031\n",
      "Name: NATIVECOUNTRY, dtype: float64\n"
     ]
    }
   ],
   "source": [
    "print(data['NATIVECOUNTRY'].value_counts()/data.shape[0])\n",
    "data.loc[data['NATIVECOUNTRY']!='United-States', 'NATIVECOUNTRY']='Other'"
   ]
  },
  {
   "cell_type": "code",
   "execution_count": 143,
   "metadata": {},
   "outputs": [],
   "source": [
    "\n",
    "X=data.drop(['FNLWGT','CAPITALGAIN','CAPITALLOSS','CLASS'], axis=1)\n",
    "X=pd.get_dummies(X)\n",
    "Y = pd.Categorical(data['CLASS']).codes"
   ]
  },
  {
   "cell_type": "code",
   "execution_count": 144,
   "metadata": {},
   "outputs": [],
   "source": [
    "train_X, test_X, train_Y, test_Y = train_test_split(X.values, Y, test_size = 0.2)"
   ]
  },
  {
   "cell_type": "code",
   "execution_count": 145,
   "metadata": {},
   "outputs": [
    {
     "name": "stdout",
     "output_type": "stream",
     "text": [
      "Training time: 0.34947967529296875s\n"
     ]
    },
    {
     "name": "stderr",
     "output_type": "stream",
     "text": [
      "C:\\Users\\Roopika Ganesh\\anaconda3\\lib\\site-packages\\sklearn\\linear_model\\_logistic.py:940: ConvergenceWarning: lbfgs failed to converge (status=1):\n",
      "STOP: TOTAL NO. of ITERATIONS REACHED LIMIT.\n",
      "\n",
      "Increase the number of iterations (max_iter) or scale the data as shown in:\n",
      "    https://scikit-learn.org/stable/modules/preprocessing.html\n",
      "Please also refer to the documentation for alternative solver options:\n",
      "    https://scikit-learn.org/stable/modules/linear_model.html#logistic-regression\n",
      "  extra_warning_msg=_LOGISTIC_SOLVER_CONVERGENCE_MSG)\n"
     ]
    }
   ],
   "source": [
    "from sklearn.linear_model import LogisticRegression\n",
    "import time\n",
    "from sklearn import metrics\n",
    "logreg = LogisticRegression()\n",
    "start = time.time()\n",
    "logreg.fit(train_X, train_Y)\n",
    "stop = time.time()\n",
    "print(f\"Training time: {stop - start}s\")"
   ]
  },
  {
   "cell_type": "code",
   "execution_count": 146,
   "metadata": {},
   "outputs": [
    {
     "name": "stdout",
     "output_type": "stream",
     "text": [
      "Accuracy of logistic regression classifier on test set: 0.84\n"
     ]
    }
   ],
   "source": [
    "y_pred = logreg.predict(train_X)\n",
    "print('Accuracy of logistic regression classifier on test set: {:.2f}'.format(logreg.score(train_X, train_Y)))"
   ]
  },
  {
   "cell_type": "code",
   "execution_count": 147,
   "metadata": {},
   "outputs": [
    {
     "name": "stdout",
     "output_type": "stream",
     "text": [
      "Accuracy of logistic regression classifier on test set: 0.83\n"
     ]
    }
   ],
   "source": [
    "y_preda = logreg.predict(test_X)\n",
    "print('Accuracy of logistic regression classifier on test set: {:.2f}'.format(logreg.score(test_X, test_Y)))"
   ]
  },
  {
   "cell_type": "code",
   "execution_count": 148,
   "metadata": {},
   "outputs": [
    {
     "name": "stdout",
     "output_type": "stream",
     "text": [
      "   AGE   WORKCLASS  FNLWGT      EDUCATION  EDUCATIONYEARS  \\\n",
      "0   25     Private  226802           11th               7   \n",
      "1   38     Private   89814        HS-grad               9   \n",
      "2   28   Local-gov  336951     Assoc-acdm              12   \n",
      "3   44     Private  160323   Some-college              10   \n",
      "4   18         NaN  103497   Some-college              10   \n",
      "\n",
      "         MARITALSTATUS          OCCUPATION RELATIONSHIP    RACE      SEX  \\\n",
      "0        Never-married   Machine-op-inspct    Own-child   Black     Male   \n",
      "1   Married-civ-spouse     Farming-fishing      Husband   White     Male   \n",
      "2   Married-civ-spouse     Protective-serv      Husband   White     Male   \n",
      "3   Married-civ-spouse   Machine-op-inspct      Husband   Black     Male   \n",
      "4        Never-married                 NaN    Own-child   White   Female   \n",
      "\n",
      "   CAPITALGAIN  CAPITALLOSS  HRSPERWEEK   NATIVECOUNTRY    CLASS  \n",
      "0            0            0          40   United-States   <=50K.  \n",
      "1            0            0          50   United-States   <=50K.  \n",
      "2            0            0          40   United-States    >50K.  \n",
      "3         7688            0          40   United-States    >50K.  \n",
      "4            0            0          30   United-States   <=50K.  \n"
     ]
    }
   ],
   "source": [
    "missing_value = [\"?\", \" ?\"]\n",
    "datatest =pd.read_csv('adult.test.csv', na_values = missing_value)\n",
    "print(datatest.head(5))\n"
   ]
  },
  {
   "cell_type": "code",
   "execution_count": 149,
   "metadata": {},
   "outputs": [
    {
     "name": "stdout",
     "output_type": "stream",
     "text": [
      " United-States                 0.450293\n",
      " Mexico                        0.009459\n",
      " Philippines                   0.002979\n",
      " Puerto-Rico                   0.002150\n",
      " Germany                       0.002119\n",
      " Canada                        0.001873\n",
      " India                         0.001566\n",
      " El-Salvador                   0.001505\n",
      " China                         0.001443\n",
      " Cuba                          0.001321\n",
      " England                       0.001136\n",
      " South                         0.001075\n",
      " Dominican-Republic            0.001013\n",
      " Italy                         0.000983\n",
      " Haiti                         0.000952\n",
      " Japan                         0.000921\n",
      " Portugal                      0.000921\n",
      " Poland                        0.000829\n",
      " Columbia                      0.000799\n",
      " Jamaica                       0.000768\n",
      " Guatemala                     0.000737\n",
      " Greece                        0.000614\n",
      " Vietnam                       0.000584\n",
      " Ecuador                       0.000522\n",
      " Iran                          0.000491\n",
      " Peru                          0.000461\n",
      " Nicaragua                     0.000461\n",
      " Taiwan                        0.000430\n",
      " Ireland                       0.000399\n",
      " Thailand                      0.000369\n",
      " Hong                          0.000307\n",
      " Cambodia                      0.000276\n",
      " Scotland                      0.000276\n",
      " Outlying-US(Guam-USVI-etc)    0.000276\n",
      " France                        0.000276\n",
      " Trinadad&Tobago               0.000246\n",
      " Yugoslavia                    0.000215\n",
      " Honduras                      0.000215\n",
      " Hungary                       0.000184\n",
      " Laos                          0.000154\n",
      "Name: NATIVECOUNTRY, dtype: float64\n"
     ]
    }
   ],
   "source": [
    "print(datatest['NATIVECOUNTRY'].value_counts()/data.shape[0])\n",
    "datatest.loc[data['NATIVECOUNTRY']!='United-States', 'NATIVECOUNTRY']='Other'"
   ]
  },
  {
   "cell_type": "code",
   "execution_count": 150,
   "metadata": {},
   "outputs": [
    {
     "name": "stdout",
     "output_type": "stream",
     "text": [
      "       AGE  EDUCATIONYEARS  HRSPERWEEK  WORKCLASS_ Federal-gov  \\\n",
      "0       25               7          40                       0   \n",
      "1       38               9          50                       0   \n",
      "2       28              12          40                       0   \n",
      "3       44              10          40                       0   \n",
      "4       18              10          30                       0   \n",
      "...    ...             ...         ...                     ...   \n",
      "16276   39              13          36                       0   \n",
      "16277   64               9          40                       0   \n",
      "16278   38              13          50                       0   \n",
      "16279   44              13          40                       0   \n",
      "16280   35              13          60                       0   \n",
      "\n",
      "       WORKCLASS_ Local-gov  WORKCLASS_ Never-worked  WORKCLASS_ Private  \\\n",
      "0                         0                        0                   1   \n",
      "1                         0                        0                   1   \n",
      "2                         1                        0                   0   \n",
      "3                         0                        0                   1   \n",
      "4                         0                        0                   0   \n",
      "...                     ...                      ...                 ...   \n",
      "16276                     0                        0                   1   \n",
      "16277                     0                        0                   0   \n",
      "16278                     0                        0                   1   \n",
      "16279                     0                        0                   1   \n",
      "16280                     0                        0                   0   \n",
      "\n",
      "       WORKCLASS_ Self-emp-inc  WORKCLASS_ Self-emp-not-inc  \\\n",
      "0                            0                            0   \n",
      "1                            0                            0   \n",
      "2                            0                            0   \n",
      "3                            0                            0   \n",
      "4                            0                            0   \n",
      "...                        ...                          ...   \n",
      "16276                        0                            0   \n",
      "16277                        0                            0   \n",
      "16278                        0                            0   \n",
      "16279                        0                            0   \n",
      "16280                        1                            0   \n",
      "\n",
      "       WORKCLASS_ State-gov  ...  RELATIONSHIP_ Unmarried  RELATIONSHIP_ Wife  \\\n",
      "0                         0  ...                        0                   0   \n",
      "1                         0  ...                        0                   0   \n",
      "2                         0  ...                        0                   0   \n",
      "3                         0  ...                        0                   0   \n",
      "4                         0  ...                        0                   0   \n",
      "...                     ...  ...                      ...                 ...   \n",
      "16276                     0  ...                        0                   0   \n",
      "16277                     0  ...                        0                   0   \n",
      "16278                     0  ...                        0                   0   \n",
      "16279                     0  ...                        0                   0   \n",
      "16280                     0  ...                        0                   0   \n",
      "\n",
      "       RACE_ Amer-Indian-Eskimo  RACE_ Asian-Pac-Islander  RACE_ Black  \\\n",
      "0                             0                         0            1   \n",
      "1                             0                         0            0   \n",
      "2                             0                         0            0   \n",
      "3                             0                         0            1   \n",
      "4                             0                         0            0   \n",
      "...                         ...                       ...          ...   \n",
      "16276                         0                         0            0   \n",
      "16277                         0                         0            1   \n",
      "16278                         0                         0            0   \n",
      "16279                         0                         1            0   \n",
      "16280                         0                         0            0   \n",
      "\n",
      "       RACE_ Other  RACE_ White  SEX_ Female  SEX_ Male  NATIVECOUNTRY_Other  \n",
      "0                0            0            0          1                    1  \n",
      "1                0            1            0          1                    1  \n",
      "2                0            1            0          1                    1  \n",
      "3                0            0            0          1                    1  \n",
      "4                0            1            1          0                    1  \n",
      "...            ...          ...          ...        ...                  ...  \n",
      "16276            0            1            1          0                    1  \n",
      "16277            0            0            0          1                    1  \n",
      "16278            0            1            0          1                    1  \n",
      "16279            0            0            0          1                    1  \n",
      "16280            0            1            0          1                    1  \n",
      "\n",
      "[16281 rows x 62 columns]\n",
      "[0 0 1 ... 0 0 1]\n"
     ]
    }
   ],
   "source": [
    "\n",
    "X1=datatest.drop(['FNLWGT','CAPITALGAIN','CAPITALLOSS','CLASS'], axis=1)\n",
    "X1=pd.get_dummies(X1)\n",
    "Y1 = pd.Categorical(datatest['CLASS']).codes\n",
    "print(X1)\n",
    "print(Y1)"
   ]
  },
  {
   "cell_type": "code",
   "execution_count": 151,
   "metadata": {},
   "outputs": [
    {
     "name": "stdout",
     "output_type": "stream",
     "text": [
      "prediction time: 0.012822389602661133s\n",
      "0.8363736871199557\n"
     ]
    }
   ],
   "source": [
    "#y_predaa = logreg.predict(X1)\n",
    "#print('Accuracy of logistic regression classifier on test set: {:.2f}'.format(logreg.score(X1, Y1)))\n",
    "#print(X1.shape)\n",
    "#x1 =  X1.transpose()\n",
    "#print(x1.shape)\n",
    "#print(Y1.shape)\n",
    "import time\n",
    "start = time.time()\n",
    "predictionstest = logreg.predict(X1)\n",
    "stop = time.time()\n",
    "print(f\"prediction time: {stop - start}s\")\n",
    "print(format(logreg.score(X1, Y1)))"
   ]
  },
  {
   "cell_type": "code",
   "execution_count": 152,
   "metadata": {},
   "outputs": [
    {
     "name": "stdout",
     "output_type": "stream",
     "text": [
      "[[11461   974]\n",
      " [ 1690  2156]]\n"
     ]
    }
   ],
   "source": [
    "from sklearn.metrics import confusion_matrix\n",
    "confusion_matrix = confusion_matrix(Y1, predictionstest)\n",
    "print(confusion_matrix)"
   ]
  },
  {
   "cell_type": "code",
   "execution_count": 153,
   "metadata": {},
   "outputs": [
    {
     "name": "stdout",
     "output_type": "stream",
     "text": [
      "0.8363736871199557\n"
     ]
    }
   ],
   "source": [
    "tp = confusion_matrix[1,1]\n",
    "tn = confusion_matrix[0,0]\n",
    "fp = confusion_matrix[0,1]\n",
    "fn = confusion_matrix[1,0]\n",
    "tptn = tp+tn\n",
    "allsco = tp+tn+fp+fn\n",
    "ac = tptn/allsco\n",
    "print(ac)"
   ]
  },
  {
   "cell_type": "code",
   "execution_count": 154,
   "metadata": {},
   "outputs": [
    {
     "name": "stdout",
     "output_type": "stream",
     "text": [
      "              precision    recall  f1-score   support\n",
      "\n",
      "           0       0.87      0.92      0.90     12435\n",
      "           1       0.69      0.56      0.62      3846\n",
      "\n",
      "    accuracy                           0.84     16281\n",
      "   macro avg       0.78      0.74      0.76     16281\n",
      "weighted avg       0.83      0.84      0.83     16281\n",
      "\n"
     ]
    }
   ],
   "source": [
    "from sklearn.metrics import classification_report\n",
    "print(classification_report(Y1, predictionstest))"
   ]
  },
  {
   "cell_type": "code",
   "execution_count": 155,
   "metadata": {},
   "outputs": [
    {
     "name": "stdout",
     "output_type": "stream",
     "text": [
      "0.8849815922673094\n"
     ]
    },
    {
     "data": {
      "image/png": "[encoded data removed]",
      "text/plain": [
       "<Figure size 432x288 with 1 Axes>"
      ]
     },
     "metadata": {},
     "output_type": "display_data"
    }
   ],
   "source": [
    "from sklearn.metrics import roc_auc_score\n",
    "from sklearn.metrics import roc_curve\n",
    "logit_roc_auc = roc_auc_score(Y1, logreg.predict(X1))\n",
    "fpr, tpr, thresholds = roc_curve(Y1, logreg.predict_proba(X1)[:,1])\n",
    "auc = metrics.auc(fpr, tpr)\n",
    "print(auc)\n",
    "plt.figure()\n",
    "plt.plot(fpr, tpr, label='Logistic Regression (area = %0.2f)' % logit_roc_auc)\n",
    "plt.plot([0, 1], [0, 1],'r--')\n",
    "plt.xlim([0.0, 1.0])\n",
    "plt.ylim([0.0, 1.05])\n",
    "plt.xlabel('False Positive Rate')\n",
    "plt.ylabel('True Positive Rate')\n",
    "plt.title('Receiver operating characteristic')\n",
    "plt.legend(loc=\"lower right\")\n",
    "plt.savefig('Log_ROC')\n",
    "plt.show()\n"
   ]
  },
  {
   "cell_type": "code",
   "execution_count": 156,
   "metadata": {},
   "outputs": [
    {
     "name": "stderr",
     "output_type": "stream",
     "text": [
      "C:\\Users\\Roopika Ganesh\\anaconda3\\lib\\site-packages\\sklearn\\model_selection\\_split.py:296: FutureWarning: Setting a random_state has no effect since shuffle is False. This will raise an error in 0.24. You should leave random_state to its default (None), or set shuffle=True.\n",
      "  FutureWarning\n",
      "C:\\Users\\Roopika Ganesh\\anaconda3\\lib\\site-packages\\sklearn\\linear_model\\_logistic.py:940: ConvergenceWarning: lbfgs failed to converge (status=1):\n",
      "STOP: TOTAL NO. of ITERATIONS REACHED LIMIT.\n",
      "\n",
      "Increase the number of iterations (max_iter) or scale the data as shown in:\n",
      "    https://scikit-learn.org/stable/modules/preprocessing.html\n",
      "Please also refer to the documentation for alternative solver options:\n",
      "    https://scikit-learn.org/stable/modules/linear_model.html#logistic-regression\n",
      "  extra_warning_msg=_LOGISTIC_SOLVER_CONVERGENCE_MSG)\n",
      "C:\\Users\\Roopika Ganesh\\anaconda3\\lib\\site-packages\\sklearn\\linear_model\\_logistic.py:940: ConvergenceWarning: lbfgs failed to converge (status=1):\n",
      "STOP: TOTAL NO. of ITERATIONS REACHED LIMIT.\n",
      "\n",
      "Increase the number of iterations (max_iter) or scale the data as shown in:\n",
      "    https://scikit-learn.org/stable/modules/preprocessing.html\n",
      "Please also refer to the documentation for alternative solver options:\n",
      "    https://scikit-learn.org/stable/modules/linear_model.html#logistic-regression\n",
      "  extra_warning_msg=_LOGISTIC_SOLVER_CONVERGENCE_MSG)\n",
      "C:\\Users\\Roopika Ganesh\\anaconda3\\lib\\site-packages\\sklearn\\linear_model\\_logistic.py:940: ConvergenceWarning: lbfgs failed to converge (status=1):\n",
      "STOP: TOTAL NO. of ITERATIONS REACHED LIMIT.\n",
      "\n",
      "Increase the number of iterations (max_iter) or scale the data as shown in:\n",
      "    https://scikit-learn.org/stable/modules/preprocessing.html\n",
      "Please also refer to the documentation for alternative solver options:\n",
      "    https://scikit-learn.org/stable/modules/linear_model.html#logistic-regression\n",
      "  extra_warning_msg=_LOGISTIC_SOLVER_CONVERGENCE_MSG)\n",
      "C:\\Users\\Roopika Ganesh\\anaconda3\\lib\\site-packages\\sklearn\\linear_model\\_logistic.py:940: ConvergenceWarning: lbfgs failed to converge (status=1):\n",
      "STOP: TOTAL NO. of ITERATIONS REACHED LIMIT.\n",
      "\n",
      "Increase the number of iterations (max_iter) or scale the data as shown in:\n",
      "    https://scikit-learn.org/stable/modules/preprocessing.html\n",
      "Please also refer to the documentation for alternative solver options:\n",
      "    https://scikit-learn.org/stable/modules/linear_model.html#logistic-regression\n",
      "  extra_warning_msg=_LOGISTIC_SOLVER_CONVERGENCE_MSG)\n",
      "C:\\Users\\Roopika Ganesh\\anaconda3\\lib\\site-packages\\sklearn\\linear_model\\_logistic.py:940: ConvergenceWarning: lbfgs failed to converge (status=1):\n",
      "STOP: TOTAL NO. of ITERATIONS REACHED LIMIT.\n",
      "\n",
      "Increase the number of iterations (max_iter) or scale the data as shown in:\n",
      "    https://scikit-learn.org/stable/modules/preprocessing.html\n",
      "Please also refer to the documentation for alternative solver options:\n",
      "    https://scikit-learn.org/stable/modules/linear_model.html#logistic-regression\n",
      "  extra_warning_msg=_LOGISTIC_SOLVER_CONVERGENCE_MSG)\n",
      "C:\\Users\\Roopika Ganesh\\anaconda3\\lib\\site-packages\\sklearn\\linear_model\\_logistic.py:940: ConvergenceWarning: lbfgs failed to converge (status=1):\n",
      "STOP: TOTAL NO. of ITERATIONS REACHED LIMIT.\n",
      "\n",
      "Increase the number of iterations (max_iter) or scale the data as shown in:\n",
      "    https://scikit-learn.org/stable/modules/preprocessing.html\n",
      "Please also refer to the documentation for alternative solver options:\n",
      "    https://scikit-learn.org/stable/modules/linear_model.html#logistic-regression\n",
      "  extra_warning_msg=_LOGISTIC_SOLVER_CONVERGENCE_MSG)\n",
      "C:\\Users\\Roopika Ganesh\\anaconda3\\lib\\site-packages\\sklearn\\linear_model\\_logistic.py:940: ConvergenceWarning: lbfgs failed to converge (status=1):\n",
      "STOP: TOTAL NO. of ITERATIONS REACHED LIMIT.\n",
      "\n",
      "Increase the number of iterations (max_iter) or scale the data as shown in:\n",
      "    https://scikit-learn.org/stable/modules/preprocessing.html\n",
      "Please also refer to the documentation for alternative solver options:\n",
      "    https://scikit-learn.org/stable/modules/linear_model.html#logistic-regression\n",
      "  extra_warning_msg=_LOGISTIC_SOLVER_CONVERGENCE_MSG)\n",
      "C:\\Users\\Roopika Ganesh\\anaconda3\\lib\\site-packages\\sklearn\\linear_model\\_logistic.py:940: ConvergenceWarning: lbfgs failed to converge (status=1):\n",
      "STOP: TOTAL NO. of ITERATIONS REACHED LIMIT.\n",
      "\n",
      "Increase the number of iterations (max_iter) or scale the data as shown in:\n",
      "    https://scikit-learn.org/stable/modules/preprocessing.html\n",
      "Please also refer to the documentation for alternative solver options:\n",
      "    https://scikit-learn.org/stable/modules/linear_model.html#logistic-regression\n",
      "  extra_warning_msg=_LOGISTIC_SOLVER_CONVERGENCE_MSG)\n",
      "C:\\Users\\Roopika Ganesh\\anaconda3\\lib\\site-packages\\sklearn\\linear_model\\_logistic.py:940: ConvergenceWarning: lbfgs failed to converge (status=1):\n",
      "STOP: TOTAL NO. of ITERATIONS REACHED LIMIT.\n",
      "\n",
      "Increase the number of iterations (max_iter) or scale the data as shown in:\n",
      "    https://scikit-learn.org/stable/modules/preprocessing.html\n",
      "Please also refer to the documentation for alternative solver options:\n",
      "    https://scikit-learn.org/stable/modules/linear_model.html#logistic-regression\n",
      "  extra_warning_msg=_LOGISTIC_SOLVER_CONVERGENCE_MSG)\n",
      "C:\\Users\\Roopika Ganesh\\anaconda3\\lib\\site-packages\\sklearn\\linear_model\\_logistic.py:940: ConvergenceWarning: lbfgs failed to converge (status=1):\n",
      "STOP: TOTAL NO. of ITERATIONS REACHED LIMIT.\n",
      "\n",
      "Increase the number of iterations (max_iter) or scale the data as shown in:\n",
      "    https://scikit-learn.org/stable/modules/preprocessing.html\n",
      "Please also refer to the documentation for alternative solver options:\n",
      "    https://scikit-learn.org/stable/modules/linear_model.html#logistic-regression\n",
      "  extra_warning_msg=_LOGISTIC_SOLVER_CONVERGENCE_MSG)\n",
      "C:\\Users\\Roopika Ganesh\\anaconda3\\lib\\site-packages\\sklearn\\model_selection\\_split.py:296: FutureWarning: Setting a random_state has no effect since shuffle is False. This will raise an error in 0.24. You should leave random_state to its default (None), or set shuffle=True.\n",
      "  FutureWarning\n"
     ]
    },
    {
     "name": "stdout",
     "output_type": "stream",
     "text": [
      "LR: 0.835458 (0.005920)\n",
      "CART: 0.781864 (0.005130)\n"
     ]
    },
    {
     "data": {
      "image/png": "[encoded data removed]",
      "text/plain": [
       "<Figure size 720x720 with 1 Axes>"
      ]
     },
     "metadata": {},
     "output_type": "display_data"
    }
   ],
   "source": [
    "import matplotlib.pyplot as plt\n",
    "from sklearn import model_selection\n",
    "from sklearn.linear_model import LogisticRegression\n",
    "from sklearn.tree import DecisionTreeClassifier\n",
    "plt.style.use('ggplot')\n",
    "seed = 50\n",
    "\n",
    "kfold = model_selection.KFold(n_splits=10, random_state=seed)\n",
    "    \n",
    "    # preparing models\n",
    "models = []\n",
    "models.append(('LR', LogisticRegression()))\n",
    "models.append(('CART', DecisionTreeClassifier()))\n",
    "\n",
    "results = []\n",
    "names = []\n",
    "scoring = 'accuracy'\n",
    "for name, model in models:\n",
    "        kfold = model_selection.KFold(n_splits=10, random_state=seed)\n",
    "        cv_results = model_selection.cross_val_score(model, train_X, train_Y, cv=kfold, scoring=scoring)\n",
    "        results.append(cv_results)\n",
    "        names.append(name)\n",
    "        msg = \"%s: %f (%f)\" % (name, cv_results.mean(), cv_results.std())\n",
    "        print(msg)\n",
    "        \n",
    "    # boxplot algorithm comparison\n",
    "fig = plt.figure(figsize=(10,10))\n",
    "fig.suptitle('How to compare sklearn classification algorithms')\n",
    "ax = fig.add_subplot(111)\n",
    "plt.boxplot(results)\n",
    "ax.set_xticklabels(names)\n",
    "plt.show()"
   ]
  },
  {
   "cell_type": "code",
   "execution_count": 157,
   "metadata": {},
   "outputs": [
    {
     "name": "stdout",
     "output_type": "stream",
     "text": [
      "0.6888178913738019\n"
     ]
    }
   ],
   "source": [
    "#precision\n",
    "pr = tp/(tp+fp)\n",
    "print(pr)"
   ]
  },
  {
   "cell_type": "code",
   "execution_count": 158,
   "metadata": {},
   "outputs": [
    {
     "name": "stdout",
     "output_type": "stream",
     "text": [
      "0.5605824232969319\n"
     ]
    }
   ],
   "source": [
    "#recall\n",
    "re = tp/(tp+fn)\n",
    "print(re)"
   ]
  },
  {
   "cell_type": "code",
   "execution_count": 159,
   "metadata": {},
   "outputs": [
    {
     "name": "stdout",
     "output_type": "stream",
     "text": [
      "0.6181192660550459\n"
     ]
    }
   ],
   "source": [
    "#fmeasure \n",
    "fm = (2 * pr * re)/(pr + re)\n",
    "print(fm)"
   ]
  },
  {
   "cell_type": "code",
   "execution_count": null,
   "metadata": {},
   "outputs": [],
   "source": []
  }
 ],
 "metadata": {
  "kernelspec": {
   "display_name": "Python 3",
   "language": "python",
   "name": "python3"
  },
  "language_info": {
   "codemirror_mode": {
    "name": "ipython",
    "version": 3
   },
   "file_extension": ".py",
   "mimetype": "text/x-python",
   "name": "python",
   "nbconvert_exporter": "python",
   "pygments_lexer": "ipython3",
   "version": "3.7.6"
  }
 },
 "nbformat": 4,
 "nbformat_minor": 4
}
